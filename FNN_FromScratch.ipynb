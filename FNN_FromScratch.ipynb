{
  "nbformat": 4,
  "nbformat_minor": 0,
  "metadata": {
    "colab": {
      "provenance": [],
      "authorship_tag": "ABX9TyP8ETfE+/JsXtDO1duR4P59",
      "include_colab_link": true
    },
    "kernelspec": {
      "name": "python3",
      "display_name": "Python 3"
    },
    "language_info": {
      "name": "python"
    }
  },
  "cells": [
    {
      "cell_type": "markdown",
      "metadata": {
        "id": "view-in-github",
        "colab_type": "text"
      },
      "source": [
        "<a href=\"https://colab.research.google.com/github/alpacarlioglu/FNN-From-Scratch/blob/main/FNN_FromScratch.ipynb\" target=\"_parent\"><img src=\"https://colab.research.google.com/assets/colab-badge.svg\" alt=\"Open In Colab\"/></a>"
      ]
    },
    {
      "cell_type": "code",
      "execution_count": null,
      "metadata": {
        "id": "PSZE1cvv6Kc3"
      },
      "outputs": [],
      "source": [
        "import numpy as np\n",
        "import matplotlib.pyplot as plt"
      ]
    },
    {
      "cell_type": "code",
      "source": [
        "X = np.array([[800, 1],\n",
        "              [1000, 2],\n",
        "              [1200, 2],\n",
        "              [1500, 3],\n",
        "              [1800, 3],\n",
        "              [2000, 4],\n",
        "              [2500, 4],\n",
        "              [3000, 5]\n",
        "              ])\n",
        "\n",
        "y = np.array([[150],\n",
        "              [200],\n",
        "              [250],\n",
        "              [300],\n",
        "              [350],\n",
        "              [400],\n",
        "              [500],\n",
        "              [600]\n",
        "              ])"
      ],
      "metadata": {
        "id": "_MJwEo8G7b3P"
      },
      "execution_count": null,
      "outputs": []
    },
    {
      "cell_type": "code",
      "source": [
        "print(X.shape, X.T.shape)"
      ],
      "metadata": {
        "colab": {
          "base_uri": "https://localhost:8080/"
        },
        "id": "bGZ9gIjdQQ7Z",
        "outputId": "034bb5de-4427-4f33-c822-314f98b1e505"
      },
      "execution_count": null,
      "outputs": [
        {
          "output_type": "stream",
          "name": "stdout",
          "text": [
            "(8, 2) (2, 8)\n"
          ]
        }
      ]
    },
    {
      "cell_type": "code",
      "source": [
        "class StandardScaler:\n",
        "  def __init__(self):\n",
        "    self.mean = None\n",
        "    self.std_dev = None\n",
        "\n",
        "  def fit(self, X):\n",
        "    self.mean = np.mean(X, axis=0)\n",
        "    self.std_dev = np.std(X, axis=0)\n",
        "\n",
        "  def transform(self, X):\n",
        "    return (X - self.mean) / self.std_dev\n",
        "\n",
        "  def fit_transform(self, X):\n",
        "    self.fit(X)\n",
        "    return self.transform(X)\n",
        "\n",
        "  def inverse_transform(self, X):\n",
        "    return (X * self.std_dev) + self.mean"
      ],
      "metadata": {
        "id": "lueIPXhG88wj"
      },
      "execution_count": null,
      "outputs": []
    },
    {
      "cell_type": "code",
      "source": [
        "class NeuralNetwork:\n",
        "    def __init__(self, input_size, hidden_size, learning_rate=0.001) -> None:\n",
        "        \"\"\"Initialize neural network parameters\"\"\"\n",
        "        self.learning_rate = learning_rate\n",
        "\n",
        "        # He Initialization\n",
        "        self.weights_input = np.random.randn(input_size, hidden_size) * np.sqrt(2 / input_size)\n",
        "        self.bias_hidden = np.zeros((1, hidden_size))\n",
        "        self.weights_hidden_output = np.random.randn(hidden_size, 1) * np.sqrt(2 / hidden_size)\n",
        "        self.bias_output = np.zeros((1, 1))\n",
        "\n",
        "        # Add tracking of best weights and minimum loss\n",
        "        self.best_weights = {\n",
        "            'weights_input': None,\n",
        "            'bias_hidden': None,\n",
        "            'weights_hidden_output': None,\n",
        "            'bias_output': None\n",
        "        }\n",
        "        self.min_loss = float('inf')\n",
        "\n",
        "    def relu(self, x):\n",
        "        return np.maximum(0, x)\n",
        "\n",
        "    def derivative_relu(self, x):\n",
        "        return np.where(x > 0, 1, 0)\n",
        "\n",
        "    def forward_pass(self, X):\n",
        "        self.hidden_input = np.dot(X, self.weights_input) + self.bias_hidden\n",
        "        self.hidden_output = self.relu(self.hidden_input)\n",
        "\n",
        "        self.output_input = np.dot(self.hidden_output, self.weights_hidden_output) + self.bias_output\n",
        "        self.final_output = self.output_input  # Linear activation for regression\n",
        "\n",
        "        return self.final_output\n",
        "\n",
        "    def backward_pass(self, X, y):\n",
        "        m = X.shape[0]\n",
        "        error = y - self.final_output\n",
        "\n",
        "        # Output layer gradients\n",
        "        d_output = error  # Derivative of MSE with respect to output\n",
        "\n",
        "        # Hidden layer gradients\n",
        "        error_hidden = np.dot(d_output, self.weights_hidden_output.T)\n",
        "        d_hidden = error_hidden * self.derivative_relu(self.hidden_output)\n",
        "\n",
        "        # Update weights and biases with gradient clipping\n",
        "        clip_value = 1.0  # Prevent exploding gradients\n",
        "\n",
        "        # Output layer updates\n",
        "        weight_update_output = np.clip(np.dot(self.hidden_output.T, d_output), -clip_value, clip_value)\n",
        "        self.weights_hidden_output += (weight_update_output * self.learning_rate) / m\n",
        "        self.bias_output += np.mean(d_output, axis=0, keepdims=True) * self.learning_rate\n",
        "\n",
        "        # Hidden layer updates\n",
        "        weight_update_hidden = np.clip(np.dot(X.T, d_hidden), -clip_value, clip_value)\n",
        "        self.weights_input += (weight_update_hidden * self.learning_rate) / m\n",
        "        self.bias_hidden += np.mean(d_hidden, axis=0, keepdims=True) * self.learning_rate\n",
        "\n",
        "        return np.mean(np.square(error))\n",
        "\n",
        "    def train(self, X, y, epochs=10000, early_stopping_patience=1000):\n",
        "        losses = []\n",
        "        patience_counter = 0\n",
        "\n",
        "        for epoch in range(epochs):\n",
        "            # Forward pass\n",
        "            self.forward_pass(X)\n",
        "\n",
        "            # Backward pass\n",
        "            loss = self.backward_pass(X, y)\n",
        "\n",
        "            # Save best weights\n",
        "            if loss < self.min_loss:\n",
        "                self.min_loss = loss\n",
        "                self.best_weights = {\n",
        "                    'weights_input': self.weights_input.copy(),\n",
        "                    'bias_hidden': self.bias_hidden.copy(),\n",
        "                    'weights_hidden_output': self.weights_hidden_output.copy(),\n",
        "                    'bias_output': self.bias_output.copy()\n",
        "                }\n",
        "                patience_counter = 0\n",
        "            else:\n",
        "                patience_counter += 1\n",
        "\n",
        "            # Early stopping\n",
        "            if patience_counter >= early_stopping_patience:\n",
        "                print(f\"Early stopping at epoch {epoch}\")\n",
        "                break\n",
        "\n",
        "            if epoch % 1000 == 0:\n",
        "                losses.append(loss)\n",
        "                print(f\"Epoch: {epoch}, Loss: {loss:.6f}\")\n",
        "\n",
        "        # Restore best weights\n",
        "        self.weights_input = self.best_weights['weights_input']\n",
        "        self.bias_hidden = self.best_weights['bias_hidden']\n",
        "        self.weights_hidden_output = self.best_weights['weights_hidden_output']\n",
        "        self.bias_output = self.best_weights['bias_output']\n",
        "\n",
        "        return losses"
      ],
      "metadata": {
        "id": "gYyvAFFR71lT"
      },
      "execution_count": null,
      "outputs": []
    },
    {
      "cell_type": "markdown",
      "source": [
        "Prediction"
      ],
      "metadata": {
        "id": "J0Ah8yOulWbE"
      }
    },
    {
      "cell_type": "code",
      "source": [
        "# Prepare the data\n",
        "scaler_X = StandardScaler()\n",
        "normalized_X = scaler_X.fit_transform(X)\n",
        "scaler_y = StandardScaler()\n",
        "normalized_y = scaler_y.fit_transform(y)\n",
        "\n",
        "# Create and train the model\n",
        "nn = NeuralNetwork(input_size=2, hidden_size=4, learning_rate=0.001)\n",
        "losses = nn.train(normalized_X, normalized_y, epochs=10000, early_stopping_patience=1000)\n",
        "\n",
        "# Make predictions\n",
        "new_X = np.array([[1340, 2], [780, 1]])\n",
        "new_x_norm = scaler_X.transform(new_X)\n",
        "pred_norm = nn.forward_pass(new_x_norm)\n",
        "pred = scaler_y.inverse_transform(pred_norm)\n",
        "print(f\"Predicted Prices: {pred.round()}\")"
      ],
      "metadata": {
        "colab": {
          "base_uri": "https://localhost:8080/"
        },
        "id": "WApfO_5ml_Gf",
        "outputId": "8e1143cc-32e4-4640-dcb2-c95b731ef4ef"
      },
      "execution_count": null,
      "outputs": [
        {
          "output_type": "stream",
          "name": "stdout",
          "text": [
            "Epoch: 0, Loss: 1.839294\n",
            "Epoch: 1000, Loss: 0.833574\n",
            "Epoch: 2000, Loss: 0.451969\n",
            "Epoch: 3000, Loss: 0.320295\n",
            "Epoch: 4000, Loss: 0.265625\n",
            "Epoch: 5000, Loss: 0.226691\n",
            "Epoch: 6000, Loss: 0.183985\n",
            "Epoch: 7000, Loss: 0.138651\n",
            "Epoch: 8000, Loss: 0.098740\n",
            "Epoch: 9000, Loss: 0.069544\n",
            "Predicted Prices: [[  11.]\n",
            " [-363.]]\n"
          ]
        }
      ]
    },
    {
      "cell_type": "code",
      "source": [
        "class NeuralNetwork:\n",
        "    def __init__(self, input_size, hidden_size, learning_rate=0.01):\n",
        "        self.learning_rate = learning_rate\n",
        "\n",
        "        # Adjusted initialization for better starting points\n",
        "        self.weights_input = np.random.randn(input_size, hidden_size) * 0.01\n",
        "        self.bias_hidden = np.zeros((1, hidden_size))\n",
        "        self.weights_hidden_output = np.random.randn(hidden_size, 1) * 0.01\n",
        "        self.bias_hidden = np.zeros((1, hidden_size))\n",
        "        self.bias_output = np.zeros((1, 1))\n",
        "\n",
        "        self.best_weights = None\n",
        "        self.min_loss = float('inf')\n",
        "\n",
        "    def relu(self, x):\n",
        "        return np.maximum(0, x)\n",
        "\n",
        "    def derivative_relu(self, x):\n",
        "        return np.where(x > 0, 1, 0)\n",
        "\n",
        "    def forward_pass(self, X):\n",
        "        self.hidden_input = np.dot(X, self.weights_input) + self.bias_hidden\n",
        "        self.hidden_output = self.relu(self.hidden_input)\n",
        "\n",
        "        self.final_input = np.dot(self.hidden_output, self.weights_hidden_output) + self.bias_output\n",
        "        self.final_output = self.final_input\n",
        "\n",
        "        return self.final_output\n",
        "\n",
        "    def backward_pass(self, X, y):\n",
        "        m = X.shape[0]\n",
        "\n",
        "        # Compute gradients\n",
        "        error = y - self.final_output\n",
        "\n",
        "        # Output layer gradients\n",
        "        d_weights_output = np.dot(self.hidden_output.T, error)\n",
        "        d_bias_output = np.sum(error, axis=0, keepdims=True)\n",
        "\n",
        "        # Hidden layer gradients\n",
        "        d_hidden = np.dot(error, self.weights_hidden_output.T)\n",
        "        d_hidden = d_hidden * self.derivative_relu(self.hidden_output)\n",
        "\n",
        "        d_weights_hidden = np.dot(X.T, d_hidden)\n",
        "        d_bias_hidden = np.sum(d_hidden, axis=0, keepdims=True)\n",
        "\n",
        "        # Update weights with normalization\n",
        "        self.weights_hidden_output += (d_weights_output / m) * self.learning_rate\n",
        "        self.bias_output += (d_bias_output / m) * self.learning_rate\n",
        "\n",
        "        self.weights_input += (d_weights_hidden / m) * self.learning_rate\n",
        "        self.bias_hidden += (d_bias_hidden / m) * self.learning_rate\n",
        "\n",
        "        return np.mean(np.square(error))\n",
        "\n",
        "    def train(self, X, y, epochs=5000, batch_size=None):\n",
        "        losses = []\n",
        "\n",
        "        for epoch in range(epochs):\n",
        "            # Forward pass\n",
        "            predictions = self.forward_pass(X)\n",
        "\n",
        "            # Backward pass\n",
        "            loss = self.backward_pass(X, y)\n",
        "\n",
        "            # Store best weights\n",
        "            if loss < self.min_loss:\n",
        "                self.min_loss = loss\n",
        "                self.best_weights = {\n",
        "                    'weights_input': self.weights_input.copy(),\n",
        "                    'bias_hidden': self.bias_hidden.copy(),\n",
        "                    'weights_hidden_output': self.weights_hidden_output.copy(),\n",
        "                    'bias_output': self.bias_output.copy()\n",
        "                }\n",
        "\n",
        "            if epoch % 500 == 0:\n",
        "                losses.append(loss)\n",
        "                print(f\"Epoch {epoch}, Loss: {loss:.6f}\")\n",
        "\n",
        "        # Restore best weights\n",
        "        if self.best_weights is not None:\n",
        "            self.weights_input = self.best_weights['weights_input']\n",
        "            self.bias_hidden = self.best_weights['bias_hidden']\n",
        "            self.weights_hidden_output = self.best_weights['weights_hidden_output']\n",
        "            self.bias_output = self.best_weights['bias_output']\n",
        "\n",
        "        return losses\n",
        "\n",
        "# Prepare the data\n",
        "X = np.array([\n",
        "    [800, 1], [1000, 2], [1200, 2], [1500, 3],\n",
        "    [1800, 3], [2000, 4], [2500, 4], [3000, 5]\n",
        "])\n",
        "y = np.array([[150], [200], [250], [300], [350], [400], [500], [600]])\n",
        "\n",
        "# Scale the data\n",
        "scaler_X = StandardScaler()\n",
        "X_scaled = scaler_X.fit_transform(X)\n",
        "\n",
        "scaler_y = StandardScaler()\n",
        "y_scaled = scaler_y.fit_transform(y)\n",
        "\n",
        "# Create and train the model\n",
        "model = NeuralNetwork(input_size=2, hidden_size=8, learning_rate=0.01)\n",
        "losses = model.train(X_scaled, y_scaled, epochs=5000)\n",
        "\n",
        "# Plot training progress\n",
        "plt.figure(figsize=(10, 5))\n",
        "plt.plot(losses)\n",
        "plt.title('Training Loss Over Time')\n",
        "plt.xlabel('Epochs (x500)')\n",
        "plt.ylabel('Mean Squared Error')\n",
        "plt.grid(True)\n",
        "plt.show()\n",
        "\n",
        "# Test the model\n",
        "test_data = np.array([[1340, 2], [780, 1]])\n",
        "test_scaled = scaler_X.transform(test_data)\n",
        "pred_scaled = model.forward_pass(test_scaled)\n",
        "predictions = scaler_y.inverse_transform(pred_scaled)\n",
        "\n",
        "print(\"\\nPredictions:\")\n",
        "for input_data, pred in zip(test_data, predictions):\n",
        "    print(f\"Input: Square feet={input_data[0]}, Bedrooms={input_data[1]} -> Predicted Price: ${pred[0]:.2f}\")\n",
        "\n",
        "# Visualize the predictions vs actual data for square footage\n",
        "plt.figure(figsize=(10, 6))\n",
        "plt.scatter(X[:, 0], y, label='Actual Data', color='blue')\n",
        "plt.scatter(test_data[:, 0], predictions, label='Predictions', color='red')\n",
        "plt.xlabel('Square Footage')\n",
        "plt.ylabel('Price')\n",
        "plt.title('House Prices: Actual vs Predicted')\n",
        "plt.legend()\n",
        "plt.grid(True)\n",
        "plt.show()"
      ],
      "metadata": {
        "colab": {
          "base_uri": "https://localhost:8080/",
          "height": 1000
        },
        "id": "j_8wbUe6uGxx",
        "outputId": "d09042ca-0478-49fb-f721-779e308dfe7c"
      },
      "execution_count": null,
      "outputs": [
        {
          "output_type": "stream",
          "name": "stdout",
          "text": [
            "Epoch 0, Loss: 0.999795\n",
            "Epoch 500, Loss: 0.611502\n",
            "Epoch 1000, Loss: 0.024409\n",
            "Epoch 1500, Loss: 0.018126\n",
            "Epoch 2000, Loss: 0.014039\n",
            "Epoch 2500, Loss: 0.011203\n",
            "Epoch 3000, Loss: 0.009162\n",
            "Epoch 3500, Loss: 0.007669\n",
            "Epoch 4000, Loss: 0.006566\n",
            "Epoch 4500, Loss: 0.005740\n"
          ]
        },
        {
          "output_type": "display_data",
          "data": {
            "text/plain": [
              "<Figure size 1000x500 with 1 Axes>"
            ],
            "image/png": "[encoded data removed]"
          },
          "metadata": {}
        },
        {
          "output_type": "stream",
          "name": "stdout",
          "text": [
            "\n",
            "Predictions:\n",
            "Input: Square feet=1340, Bedrooms=2 -> Predicted Price: $244.70\n",
            "Input: Square feet=780, Bedrooms=1 -> Predicted Price: $149.36\n"
          ]
        },
        {
          "output_type": "display_data",
          "data": {
            "text/plain": [
              "<Figure size 1000x600 with 1 Axes>"
            ],
            "image/png": "[encoded data removed]"
          },
          "metadata": {}
        }
      ]
    },
    {
      "cell_type": "code",
      "source": [],
      "metadata": {
        "id": "Id8QmCMouHGa"
      },
      "execution_count": null,
      "outputs": []
    }
  ]
}
